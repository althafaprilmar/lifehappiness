{
  "nbformat": 4,
  "nbformat_minor": 0,
  "metadata": {
    "colab": {
      "name": "Study_Case_Sample.ipynb",
      "provenance": [],
      "authorship_tag": "ABX9TyNHmXX1HQ/gfoeykLiTx/eE",
      "include_colab_link": true
    },
    "kernelspec": {
      "name": "python3",
      "display_name": "Python 3"
    },
    "language_info": {
      "name": "python"
    }
  },
  "cells": [
    {
      "cell_type": "markdown",
      "metadata": {
        "id": "view-in-github",
        "colab_type": "text"
      },
      "source": [
        "<a href=\"https://colab.research.google.com/github/jovanka2021/lifehappiness/blob/main/Study_Case_Sample.ipynb\" target=\"_parent\"><img src=\"https://colab.research.google.com/assets/colab-badge.svg\" alt=\"Open In Colab\"/></a>"
      ]
    },
    {
      "cell_type": "code",
      "metadata": {
        "colab": {
          "base_uri": "https://localhost:8080/",
          "height": 609
        },
        "id": "tL81O3Zbw_ot",
        "outputId": "fcd655fc-77bd-46b8-808b-b12f76ef52b0"
      },
      "source": [
        "# import library\n",
        "import pandas as pd\n",
        "import numpy as np\n",
        "\n",
        "# define variable\n",
        "path_file = '/content/sample_data/covid_data.csv'\n",
        "\n",
        "# creat dataframe\n",
        "# .read_csv() atau .read_excel()>>data kita adri excel, .DataFrame()>>untuk json\n",
        "df = pd.read_csv(path_file)\n",
        "df"
      ],
      "execution_count": 2,
      "outputs": [
        {
          "output_type": "execute_result",
          "data": {
            "text/html": [
              "<div>\n",
              "<style scoped>\n",
              "    .dataframe tbody tr th:only-of-type {\n",
              "        vertical-align: middle;\n",
              "    }\n",
              "\n",
              "    .dataframe tbody tr th {\n",
              "        vertical-align: top;\n",
              "    }\n",
              "\n",
              "    .dataframe thead th {\n",
              "        text-align: right;\n",
              "    }\n",
              "</style>\n",
              "<table border=\"1\" class=\"dataframe\">\n",
              "  <thead>\n",
              "    <tr style=\"text-align: right;\">\n",
              "      <th></th>\n",
              "      <th>location_key</th>\n",
              "      <th>date</th>\n",
              "      <th>place_id</th>\n",
              "      <th>wikidata_id</th>\n",
              "      <th>country_code</th>\n",
              "      <th>country_name</th>\n",
              "      <th>new_confirmed</th>\n",
              "      <th>new_deceased</th>\n",
              "      <th>new_persons_vaccinated</th>\n",
              "      <th>new_persons_fully_vaccinated</th>\n",
              "    </tr>\n",
              "  </thead>\n",
              "  <tbody>\n",
              "    <tr>\n",
              "      <th>0</th>\n",
              "      <td>ID_SG</td>\n",
              "      <td>2021-01-01</td>\n",
              "      <td>ChIJg3FrC97smC0R7aQEn0N8HWI</td>\n",
              "      <td>Q5075</td>\n",
              "      <td>ID</td>\n",
              "      <td>Indonesia</td>\n",
              "      <td>79.0</td>\n",
              "      <td>0.0</td>\n",
              "      <td>NaN</td>\n",
              "      <td>NaN</td>\n",
              "    </tr>\n",
              "    <tr>\n",
              "      <th>1</th>\n",
              "      <td>ID_AC_1104</td>\n",
              "      <td>2021-01-01</td>\n",
              "      <td>ChIJb_UQ-jJeNzARUMwgsoCdAwM</td>\n",
              "      <td>Q5675</td>\n",
              "      <td>ID</td>\n",
              "      <td>Indonesia</td>\n",
              "      <td>0.0</td>\n",
              "      <td>0.0</td>\n",
              "      <td>NaN</td>\n",
              "      <td>NaN</td>\n",
              "    </tr>\n",
              "    <tr>\n",
              "      <th>2</th>\n",
              "      <td>ID_AC_1115</td>\n",
              "      <td>2021-01-01</td>\n",
              "      <td>ChIJNyiO4RExOTAR0M4gsoCdAwM</td>\n",
              "      <td>Q5746</td>\n",
              "      <td>ID</td>\n",
              "      <td>Indonesia</td>\n",
              "      <td>0.0</td>\n",
              "      <td>0.0</td>\n",
              "      <td>NaN</td>\n",
              "      <td>NaN</td>\n",
              "    </tr>\n",
              "    <tr>\n",
              "      <th>3</th>\n",
              "      <td>ID_AC_1174</td>\n",
              "      <td>2021-01-01</td>\n",
              "      <td>ChIJo13gOQSFNzAREMwgsoCdAwM</td>\n",
              "      <td>Q5781</td>\n",
              "      <td>ID</td>\n",
              "      <td>Indonesia</td>\n",
              "      <td>0.0</td>\n",
              "      <td>0.0</td>\n",
              "      <td>NaN</td>\n",
              "      <td>NaN</td>\n",
              "    </tr>\n",
              "    <tr>\n",
              "      <th>4</th>\n",
              "      <td>ID_BA_5171</td>\n",
              "      <td>2021-01-01</td>\n",
              "      <td>ChIJ24BeDptA0i0RSje5zOg0c-I</td>\n",
              "      <td>Q11506</td>\n",
              "      <td>ID</td>\n",
              "      <td>Indonesia</td>\n",
              "      <td>17.0</td>\n",
              "      <td>0.0</td>\n",
              "      <td>NaN</td>\n",
              "      <td>NaN</td>\n",
              "    </tr>\n",
              "    <tr>\n",
              "      <th>...</th>\n",
              "      <td>...</td>\n",
              "      <td>...</td>\n",
              "      <td>...</td>\n",
              "      <td>...</td>\n",
              "      <td>...</td>\n",
              "      <td>...</td>\n",
              "      <td>...</td>\n",
              "      <td>...</td>\n",
              "      <td>...</td>\n",
              "      <td>...</td>\n",
              "    </tr>\n",
              "    <tr>\n",
              "      <th>161401</th>\n",
              "      <td>ID_SG_7403</td>\n",
              "      <td>2021-10-21</td>\n",
              "      <td>ChIJozO1a5JKoi0R0HH3yvsLAwM</td>\n",
              "      <td>Q15363</td>\n",
              "      <td>ID</td>\n",
              "      <td>Indonesia</td>\n",
              "      <td>NaN</td>\n",
              "      <td>NaN</td>\n",
              "      <td>NaN</td>\n",
              "      <td>NaN</td>\n",
              "    </tr>\n",
              "    <tr>\n",
              "      <th>161402</th>\n",
              "      <td>ID_JA_1507</td>\n",
              "      <td>2021-10-21</td>\n",
              "      <td>ChIJFxpQOk7nJS4RpHqc4AQCEqw</td>\n",
              "      <td>Q7384</td>\n",
              "      <td>ID</td>\n",
              "      <td>Indonesia</td>\n",
              "      <td>NaN</td>\n",
              "      <td>NaN</td>\n",
              "      <td>NaN</td>\n",
              "      <td>NaN</td>\n",
              "    </tr>\n",
              "    <tr>\n",
              "      <th>161403</th>\n",
              "      <td>ID_LA_1809</td>\n",
              "      <td>2021-10-21</td>\n",
              "      <td>ChIJbUWZ5Y_WQC4RkvrR6z33KkE</td>\n",
              "      <td>Q8144</td>\n",
              "      <td>ID</td>\n",
              "      <td>Indonesia</td>\n",
              "      <td>NaN</td>\n",
              "      <td>NaN</td>\n",
              "      <td>NaN</td>\n",
              "      <td>NaN</td>\n",
              "    </tr>\n",
              "    <tr>\n",
              "      <th>161404</th>\n",
              "      <td>ID_LA_1802</td>\n",
              "      <td>2021-10-21</td>\n",
              "      <td>ChIJWWsDAMtXPy4R8M8gsoCdAwM</td>\n",
              "      <td>Q8135</td>\n",
              "      <td>ID</td>\n",
              "      <td>Indonesia</td>\n",
              "      <td>NaN</td>\n",
              "      <td>NaN</td>\n",
              "      <td>NaN</td>\n",
              "      <td>NaN</td>\n",
              "    </tr>\n",
              "    <tr>\n",
              "      <th>161405</th>\n",
              "      <td>ID_MA_8103</td>\n",
              "      <td>2021-10-21</td>\n",
              "      <td>ChIJJ_lzRAspJy0R9Nu1pW3cJOc</td>\n",
              "      <td>Q18961</td>\n",
              "      <td>ID</td>\n",
              "      <td>Indonesia</td>\n",
              "      <td>NaN</td>\n",
              "      <td>NaN</td>\n",
              "      <td>NaN</td>\n",
              "      <td>NaN</td>\n",
              "    </tr>\n",
              "  </tbody>\n",
              "</table>\n",
              "<p>161406 rows × 10 columns</p>\n",
              "</div>"
            ],
            "text/plain": [
              "       location_key  ... new_persons_fully_vaccinated\n",
              "0             ID_SG  ...                          NaN\n",
              "1        ID_AC_1104  ...                          NaN\n",
              "2        ID_AC_1115  ...                          NaN\n",
              "3        ID_AC_1174  ...                          NaN\n",
              "4        ID_BA_5171  ...                          NaN\n",
              "...             ...  ...                          ...\n",
              "161401   ID_SG_7403  ...                          NaN\n",
              "161402   ID_JA_1507  ...                          NaN\n",
              "161403   ID_LA_1809  ...                          NaN\n",
              "161404   ID_LA_1802  ...                          NaN\n",
              "161405   ID_MA_8103  ...                          NaN\n",
              "\n",
              "[161406 rows x 10 columns]"
            ]
          },
          "metadata": {},
          "execution_count": 2
        }
      ]
    },
    {
      "cell_type": "code",
      "metadata": {
        "colab": {
          "base_uri": "https://localhost:8080/"
        },
        "id": "s07m5oMC10wh",
        "outputId": "5cc32d1e-bfa9-47b1-b978-63cd695ac20c"
      },
      "source": [
        "# column information\n",
        "df.info()"
      ],
      "execution_count": 3,
      "outputs": [
        {
          "output_type": "stream",
          "name": "stdout",
          "text": [
            "<class 'pandas.core.frame.DataFrame'>\n",
            "RangeIndex: 161406 entries, 0 to 161405\n",
            "Data columns (total 10 columns):\n",
            " #   Column                        Non-Null Count   Dtype  \n",
            "---  ------                        --------------   -----  \n",
            " 0   location_key                  161406 non-null  object \n",
            " 1   date                          161406 non-null  object \n",
            " 2   place_id                      159348 non-null  object \n",
            " 3   wikidata_id                   159348 non-null  object \n",
            " 4   country_code                  161406 non-null  object \n",
            " 5   country_name                  161406 non-null  object \n",
            " 6   new_confirmed                 86929 non-null   float64\n",
            " 7   new_deceased                  86929 non-null   float64\n",
            " 8   new_persons_vaccinated        234 non-null     float64\n",
            " 9   new_persons_fully_vaccinated  228 non-null     float64\n",
            "dtypes: float64(4), object(6)\n",
            "memory usage: 12.3+ MB\n"
          ]
        }
      ]
    },
    {
      "cell_type": "code",
      "metadata": {
        "colab": {
          "base_uri": "https://localhost:8080/"
        },
        "id": "xvl1W1oQ2FaS",
        "outputId": "3f8278ab-9566-4950-ed33-6e9fc0407495"
      },
      "source": [
        "# data cleansing\n",
        "df.isnull().sum()"
      ],
      "execution_count": 4,
      "outputs": [
        {
          "output_type": "execute_result",
          "data": {
            "text/plain": [
              "location_key                         0\n",
              "date                                 0\n",
              "place_id                          2058\n",
              "wikidata_id                       2058\n",
              "country_code                         0\n",
              "country_name                         0\n",
              "new_confirmed                    74477\n",
              "new_deceased                     74477\n",
              "new_persons_vaccinated          161172\n",
              "new_persons_fully_vaccinated    161178\n",
              "dtype: int64"
            ]
          },
          "metadata": {},
          "execution_count": 4
        }
      ]
    },
    {
      "cell_type": "code",
      "metadata": {
        "colab": {
          "base_uri": "https://localhost:8080/"
        },
        "id": "Av93YXHn32Ll",
        "outputId": "e7e40c5d-6fb2-4602-bd46-b3fd74d9ac3e"
      },
      "source": [
        "# to replace NULL or NaN value with .fillna()\n",
        "df['new_confirmed'] = df['new_confirmed'].fillna(0)\n",
        "df['new_deceased'] = df['new_deceased'].fillna(0)\n",
        "\n",
        "# example numpy\n",
        "df['new_persons_vaccinated'] = np.where(df['new_persons_vaccinated'].isnull(), 0, df['new_persons_vaccinated'])\n",
        "\n",
        "df['new_persons_fully_vaccinated'] = np.where(df['new_persons_fully_vaccinated'].isnull(), 0, df['new_persons_fully_vaccinated'])\n",
        "\n",
        "df.isnull().sum()\n"
      ],
      "execution_count": 5,
      "outputs": [
        {
          "output_type": "execute_result",
          "data": {
            "text/plain": [
              "location_key                       0\n",
              "date                               0\n",
              "place_id                        2058\n",
              "wikidata_id                     2058\n",
              "country_code                       0\n",
              "country_name                       0\n",
              "new_confirmed                      0\n",
              "new_deceased                       0\n",
              "new_persons_vaccinated             0\n",
              "new_persons_fully_vaccinated       0\n",
              "dtype: int64"
            ]
          },
          "metadata": {},
          "execution_count": 5
        }
      ]
    },
    {
      "cell_type": "code",
      "metadata": {
        "colab": {
          "base_uri": "https://localhost:8080/"
        },
        "id": "Ls-cbGVNclkn",
        "outputId": "12f05273-f0f6-41f4-ba7b-012149de69de"
      },
      "source": [
        "# date column change data type to date type, using, pd.to_datetime()\n",
        "df['date'] = pd.to_datetime(df['date'])\n",
        "df.info()\n"
      ],
      "execution_count": 6,
      "outputs": [
        {
          "output_type": "stream",
          "name": "stdout",
          "text": [
            "<class 'pandas.core.frame.DataFrame'>\n",
            "RangeIndex: 161406 entries, 0 to 161405\n",
            "Data columns (total 10 columns):\n",
            " #   Column                        Non-Null Count   Dtype         \n",
            "---  ------                        --------------   -----         \n",
            " 0   location_key                  161406 non-null  object        \n",
            " 1   date                          161406 non-null  datetime64[ns]\n",
            " 2   place_id                      159348 non-null  object        \n",
            " 3   wikidata_id                   159348 non-null  object        \n",
            " 4   country_code                  161406 non-null  object        \n",
            " 5   country_name                  161406 non-null  object        \n",
            " 6   new_confirmed                 161406 non-null  float64       \n",
            " 7   new_deceased                  161406 non-null  float64       \n",
            " 8   new_persons_vaccinated        161406 non-null  float64       \n",
            " 9   new_persons_fully_vaccinated  161406 non-null  float64       \n",
            "dtypes: datetime64[ns](1), float64(4), object(5)\n",
            "memory usage: 12.3+ MB\n"
          ]
        }
      ]
    },
    {
      "cell_type": "code",
      "metadata": {
        "colab": {
          "base_uri": "https://localhost:8080/",
          "height": 450
        },
        "id": "qvBUhlnYeB58",
        "outputId": "98b4aaef-af48-4247-fa55-5e4163f4d294"
      },
      "source": [
        "# data visualisation\n",
        "# .groupby\n",
        "\n",
        "new_df = df.groupby('date').agg({'new_confirmed':'sum'})\n",
        "new_df"
      ],
      "execution_count": 8,
      "outputs": [
        {
          "output_type": "execute_result",
          "data": {
            "text/html": [
              "<div>\n",
              "<style scoped>\n",
              "    .dataframe tbody tr th:only-of-type {\n",
              "        vertical-align: middle;\n",
              "    }\n",
              "\n",
              "    .dataframe tbody tr th {\n",
              "        vertical-align: top;\n",
              "    }\n",
              "\n",
              "    .dataframe thead th {\n",
              "        text-align: right;\n",
              "    }\n",
              "</style>\n",
              "<table border=\"1\" class=\"dataframe\">\n",
              "  <thead>\n",
              "    <tr style=\"text-align: right;\">\n",
              "      <th></th>\n",
              "      <th>new_confirmed</th>\n",
              "    </tr>\n",
              "    <tr>\n",
              "      <th>date</th>\n",
              "      <th></th>\n",
              "    </tr>\n",
              "  </thead>\n",
              "  <tbody>\n",
              "    <tr>\n",
              "      <th>2021-01-01</th>\n",
              "      <td>23440.0</td>\n",
              "    </tr>\n",
              "    <tr>\n",
              "      <th>2021-01-02</th>\n",
              "      <td>21332.0</td>\n",
              "    </tr>\n",
              "    <tr>\n",
              "      <th>2021-01-03</th>\n",
              "      <td>20445.0</td>\n",
              "    </tr>\n",
              "    <tr>\n",
              "      <th>2021-01-04</th>\n",
              "      <td>20100.0</td>\n",
              "    </tr>\n",
              "    <tr>\n",
              "      <th>2021-01-05</th>\n",
              "      <td>22433.0</td>\n",
              "    </tr>\n",
              "    <tr>\n",
              "      <th>...</th>\n",
              "      <td>...</td>\n",
              "    </tr>\n",
              "    <tr>\n",
              "      <th>2021-10-17</th>\n",
              "      <td>1494.0</td>\n",
              "    </tr>\n",
              "    <tr>\n",
              "      <th>2021-10-18</th>\n",
              "      <td>1252.0</td>\n",
              "    </tr>\n",
              "    <tr>\n",
              "      <th>2021-10-19</th>\n",
              "      <td>1806.0</td>\n",
              "    </tr>\n",
              "    <tr>\n",
              "      <th>2021-10-20</th>\n",
              "      <td>2.0</td>\n",
              "    </tr>\n",
              "    <tr>\n",
              "      <th>2021-10-21</th>\n",
              "      <td>0.0</td>\n",
              "    </tr>\n",
              "  </tbody>\n",
              "</table>\n",
              "<p>294 rows × 1 columns</p>\n",
              "</div>"
            ],
            "text/plain": [
              "            new_confirmed\n",
              "date                     \n",
              "2021-01-01        23440.0\n",
              "2021-01-02        21332.0\n",
              "2021-01-03        20445.0\n",
              "2021-01-04        20100.0\n",
              "2021-01-05        22433.0\n",
              "...                   ...\n",
              "2021-10-17         1494.0\n",
              "2021-10-18         1252.0\n",
              "2021-10-19         1806.0\n",
              "2021-10-20            2.0\n",
              "2021-10-21            0.0\n",
              "\n",
              "[294 rows x 1 columns]"
            ]
          },
          "metadata": {},
          "execution_count": 8
        }
      ]
    },
    {
      "cell_type": "code",
      "metadata": {
        "colab": {
          "base_uri": "https://localhost:8080/",
          "height": 391
        },
        "id": "v1fIH8eMfy1b",
        "outputId": "5bf083c8-0e6d-4bf6-c36f-5369be828b56"
      },
      "source": [
        "# .plot.bar(bar chart) dan .plot(time series)\n",
        "new_df.plot.bar(figsize = (15,4))"
      ],
      "execution_count": 10,
      "outputs": [
        {
          "output_type": "execute_result",
          "data": {
            "text/plain": [
              "<matplotlib.axes._subplots.AxesSubplot at 0x7f7066cf93d0>"
            ]
          },
          "metadata": {},
          "execution_count": 10
        },
        {
          "output_type": "display_data",
          "data": {
            "image/png": "[encoded data removed]",
            "text/plain": [
              "<Figure size 1080x288 with 1 Axes>"
            ]
          },
          "metadata": {
            "needs_background": "light"
          }
        }
      ]
    },
    {
      "cell_type": "code",
      "metadata": {
        "colab": {
          "base_uri": "https://localhost:8080/",
          "height": 308
        },
        "id": "o7YvLiztgsAN",
        "outputId": "4546f474-ea34-461c-ff66-002ce8500877"
      },
      "source": [
        "# time series\n",
        "new_df.plot(figsize = (15,4))"
      ],
      "execution_count": 11,
      "outputs": [
        {
          "output_type": "execute_result",
          "data": {
            "text/plain": [
              "<matplotlib.axes._subplots.AxesSubplot at 0x7f7057ac76d0>"
            ]
          },
          "metadata": {},
          "execution_count": 11
        },
        {
          "output_type": "display_data",
          "data": {
            "image/png": "[encoded data removed]",
            "text/plain": [
              "<Figure size 1080x288 with 1 Axes>"
            ]
          },
          "metadata": {
            "needs_background": "light"
          }
        }
      ]
    }
  ]
}